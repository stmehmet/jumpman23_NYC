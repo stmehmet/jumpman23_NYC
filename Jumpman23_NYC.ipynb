{
 "cells": [
  {
   "cell_type": "markdown",
   "metadata": {},
   "source": [
    "__Background__\n",
    "\n",
    "Jumpman23 is an on-demand delivery platform connecting “Jumpmen” and customers\n",
    "purchasing a variety of goods. Jumpman23 will send Jumpmen to merchants to purchase and\n",
    "pickup any items requested by the customer. Whenever possible, Jumpman23 will order the\n",
    "requested items ahead to save the Jumpmen time. Each time a Jumpman23 delivery is\n",
    "completed, a record is saved to the Jumpman23 database that contains information about that\n",
    "delivery. Jumpman23 is growing fast and has just launched in its newest market -- New York City."
   ]
  },
  {
   "cell_type": "markdown",
   "metadata": {},
   "source": [
    "__Challenge__\n",
    "\n",
    "The CEO of Jumpman23 has just asked you how are things going in New York? The CEO is\n",
    "considering pouring more resources into NYC and wants you to come up with a plan to grow the\n",
    "market by 20% in two months.\n",
    "They have also heard of data integrity issues in the data from NYC. Please think through the\n",
    "CEO’s ask and present to both the CEO and the CTO, in any format you choose, an analysis of\n",
    "the market. In addition, dive into the reports on data integrity issues and if they indeed exist,\n",
    "outline where they may be and how they may impact the analysis. The CEO is a visual learner,\n",
    "the CTO loves to see code and technical work, and both are obsessed with maps."
   ]
  },
  {
   "cell_type": "markdown",
   "metadata": {},
   "source": [
    "__I'd like to include my suggestions to grow the market here, in the beginning, to make it more easy to locate.__"
   ]
  },
  {
   "cell_type": "markdown",
   "metadata": {},
   "source": [
    "__Plan to grow the market by 20%__\n",
    "\n",
    "After analyzing the data first thing I noticed was how the activity is concentrated in particularly Manhattan and almost no pickup or delivery in other boroughs of NYC other than a small part of Brooklyn. To be able to better understand the demographics off the top customers, we can exract the zipcodes from given dropoff lattitudes and longitudes and understand key stats of those areas like median household income, families vs singles, households_with_kids to be able to understand best zipcodes within NYC that are currently untapped. After determining target zip codes, shifting existing resources from Manhattan by having Jumpmans deliver multiple order at the same time after bundling deliveries originating from and destinated to nearby locations. Recuriting more Jumpman that are available close to new areas should definitely help with keeping up with demand more efficiently and on time. This would ultimately increase return customers and will achieve steady volume."
   ]
  },
  {
   "cell_type": "markdown",
   "metadata": {},
   "source": [
    "Let's start with importing necessary libraries. To be able to use gmaps, a Google Maps API key needs to be assigned to the API_KEY variable. Maps Javascript API and Directions Matrix API needs to be enabled for the same API key."
   ]
  },
  {
   "cell_type": "code",
   "execution_count": 1,
   "metadata": {},
   "outputs": [],
   "source": [
    "import pandas as pd\n",
    "import numpy as np\n",
    "import matplotlib.pyplot as plt\n",
    "%matplotlib inline\n",
    "import json\n",
    "import requests\n",
    "from IPython.display import display\n",
    "import ipywidgets as widgets\n",
    "from uszipcode import SearchEngine, SimpleZipcode, Zipcode\n",
    "import gmaps\n",
    "API_KEY = 'AI..'\n",
    "gmaps.configure(api_key=API_KEY)\n",
    "new_york_coordinates = (40.75, -74.00)"
   ]
  },
  {
   "cell_type": "markdown",
   "metadata": {},
   "source": [
    "Next step would be importing data from provided csv file and converting it into a Pandas dataframe. Timestamp fields needs to be parsed to be able to do calculations. Before moving into analysis, calculating some fields like delivery time or hour part of each delivery start time should make things easier ahead."
   ]
  },
  {
   "cell_type": "code",
   "execution_count": 2,
   "metadata": {
    "scrolled": true
   },
   "outputs": [],
   "source": [
    "df = pd.read_csv('analyze_me.csv', converters = {'how_long_it_took_to_order':pd.to_timedelta},\n",
    "                                    parse_dates= ['when_the_delivery_started',\n",
    "                                                 'when_the_Jumpman_arrived_at_pickup',\n",
    "                                                 'when_the_Jumpman_left_pickup',\n",
    "                                                 'when_the_Jumpman_arrived_at_dropoff'], \n",
    "                                     infer_datetime_format = True)\n",
    "df['how_long_it_took_to_order_in_minutes'] = (df['how_long_it_took_to_order'].astype('timedelta64[s]')/60).round(2)\n",
    "df['time_spent_at_merchant'] = df['when_the_Jumpman_left_pickup'] - df['when_the_Jumpman_arrived_at_pickup']\n",
    "df['time_spent_at_merchant_minutes'] = (df['time_spent_at_merchant'].astype('timedelta64[s]')/60).round(2)\n",
    "df['delivery_time'] = df['when_the_Jumpman_arrived_at_dropoff'] - df['when_the_delivery_started']\n",
    "df['delivery_time_minutes'] = (df['delivery_time'].astype('timedelta64[s]')/60).round(2)\n",
    "df['delivery_start_hour'] = df['when_the_delivery_started'].dt.hour"
   ]
  },
  {
   "cell_type": "raw",
   "metadata": {},
   "source": [
    "By utilizing Google Maps Directions Matrix API, we can get more insights from location data(pickup_lat, pickup_lon, dropoff_lat, dropoff_lon) for each delivery. Following code block  helps us calculate corresponding addresses for each latitude and longitude pair, a route between them which takes mode of transportation into consideration and the duration for that calculated route. Please note that while calculating this route, traffic data is not utilized for the sake of keeping things simple and not incurring additional charges."
   ]
  },
  {
   "cell_type": "code",
   "execution_count": 3,
   "metadata": {},
   "outputs": [],
   "source": [
    "def route_generator(pickup_lat, pickup_lon,dropoff_lat,dropoff_lon, mode):\n",
    "    new_array = []\n",
    "    url ='https://maps.googleapis.com/maps/api/distancematrix/json?units=imperial'\n",
    "    origin = str(pickup_lat)+','+str(pickup_lon)\n",
    "    destination = str(dropoff_lat)+','+str(dropoff_lon)\n",
    "    if mode == 'bicycle' or mode=='scooter':\n",
    "        mode='bicycling'\n",
    "    elif mode== 'car' or mode=='motorcycle' or mode=='truck' or mode=='van':\n",
    "        mode='driving'\n",
    "    elif mode=='walker':\n",
    "        mode='walking'\n",
    "    r = requests.get(url + '&origins=' + origin +\n",
    "                       '&destinations=' + destination +\n",
    "                       '&mode=' + mode +\n",
    "                       '&key=' + API_KEY)\n",
    "    response = r.json()\n",
    "#     print(response)\n",
    "\n",
    "    pickup_zipcode = response['origin_addresses'][0].split(',')[-2][3:]\n",
    "    dropoff_zipcode = response['destination_addresses'][0].split(',')[-2][3:]\n",
    "    drive_time = response['rows'][0]['elements'][0]['duration']['value']/60\n",
    "    distance = response['rows'][0]['elements'][0]['distance']['value']\n",
    "    new_array = [pickup_zipcode,dropoff_zipcode,drive_time,distance]\n",
    "    return new_array\n",
    "\n",
    "# print(route_generator(40.744607,-73.990742,40.752073,-73.985370,'walker'))\n",
    "\n",
    "df_adjusted = df\n",
    "\n",
    "for index,row in df_adjusted.iterrows():\n",
    "    stg = route_generator(row['pickup_lat'],row['pickup_lon'],row['dropoff_lat'],row['dropoff_lon'],row['vehicle_type'])\n",
    "    df_adjusted.loc[index,'pickup_zipcode'] = stg[0]\n",
    "    df_adjusted.loc[index,'dropoff_zipcode'] = stg[1]\n",
    "    df_adjusted.loc[index,'maps_api_route_time'] = stg[2]\n",
    "    df_adjusted.loc[index,'maps_api_route_distance'] = stg[3]\n",
    "df_adjusted['maps_api_route_time'] = df_adjusted['maps_api_route_time'].round(2)\n",
    "df_adjusted['maps_api_route_distance'] = (df_adjusted['maps_api_route_distance']/1609).round(2) # meters to miles conversion    "
   ]
  },
  {
   "cell_type": "markdown",
   "metadata": {},
   "source": [
    "After iterating over each row and running route_generator function to save calculated fields for later use in case there is a need to restart the notebook. New csv file(df_adjusted.csv) is saved in the same directory with this notebook file."
   ]
  },
  {
   "cell_type": "code",
   "execution_count": 4,
   "metadata": {},
   "outputs": [],
   "source": [
    "df_adjusted.to_csv (r'df_adjusted.csv', index = False, header=True)"
   ]
  },
  {
   "cell_type": "markdown",
   "metadata": {},
   "source": [
    "Previous code blocks are commented out to prevent overwriting existing files."
   ]
  },
  {
   "cell_type": "markdown",
   "metadata": {},
   "source": [
    "Let's look at the first five rows of df_adjusted dataframe to have an understanding of how each column looks like.\n"
   ]
  },
  {
   "cell_type": "code",
   "execution_count": 5,
   "metadata": {},
   "outputs": [
    {
     "data": {
      "text/html": [
       "<div>\n",
       "<style scoped>\n",
       "    .dataframe tbody tr th:only-of-type {\n",
       "        vertical-align: middle;\n",
       "    }\n",
       "\n",
       "    .dataframe tbody tr th {\n",
       "        vertical-align: top;\n",
       "    }\n",
       "\n",
       "    .dataframe thead th {\n",
       "        text-align: right;\n",
       "    }\n",
       "</style>\n",
       "<table border=\"1\" class=\"dataframe\">\n",
       "  <thead>\n",
       "    <tr style=\"text-align: right;\">\n",
       "      <th></th>\n",
       "      <th>delivery_id</th>\n",
       "      <th>customer_id</th>\n",
       "      <th>jumpman_id</th>\n",
       "      <th>vehicle_type</th>\n",
       "      <th>pickup_place</th>\n",
       "      <th>place_category</th>\n",
       "      <th>item_name</th>\n",
       "      <th>item_quantity</th>\n",
       "      <th>item_category_name</th>\n",
       "      <th>how_long_it_took_to_order</th>\n",
       "      <th>...</th>\n",
       "      <th>how_long_it_took_to_order_in_minutes</th>\n",
       "      <th>time_spent_at_merchant</th>\n",
       "      <th>time_spent_at_merchant_minutes</th>\n",
       "      <th>delivery_time</th>\n",
       "      <th>delivery_time_minutes</th>\n",
       "      <th>delivery_start_hour</th>\n",
       "      <th>pickup_zipcode</th>\n",
       "      <th>dropoff_zipcode</th>\n",
       "      <th>maps_api_route_time</th>\n",
       "      <th>maps_api_route_distance</th>\n",
       "    </tr>\n",
       "  </thead>\n",
       "  <tbody>\n",
       "    <tr>\n",
       "      <th>0</th>\n",
       "      <td>1457973</td>\n",
       "      <td>327168</td>\n",
       "      <td>162381</td>\n",
       "      <td>van</td>\n",
       "      <td>Melt Shop</td>\n",
       "      <td>American</td>\n",
       "      <td>Lemonade</td>\n",
       "      <td>1.0</td>\n",
       "      <td>Beverages</td>\n",
       "      <td>0 days 00:19:58.582052</td>\n",
       "      <td>...</td>\n",
       "      <td>19.97</td>\n",
       "      <td>NaT</td>\n",
       "      <td>NaN</td>\n",
       "      <td>0 days 01:00:06.414164</td>\n",
       "      <td>60.10</td>\n",
       "      <td>13</td>\n",
       "      <td>10010</td>\n",
       "      <td>10018</td>\n",
       "      <td>6.02</td>\n",
       "      <td>1.07</td>\n",
       "    </tr>\n",
       "    <tr>\n",
       "      <th>1</th>\n",
       "      <td>1377056</td>\n",
       "      <td>64452</td>\n",
       "      <td>104533</td>\n",
       "      <td>bicycle</td>\n",
       "      <td>Prince Street Pizza</td>\n",
       "      <td>Pizza</td>\n",
       "      <td>Neapolitan Rice Balls</td>\n",
       "      <td>3.0</td>\n",
       "      <td>Munchables</td>\n",
       "      <td>0 days 00:25:09.107093</td>\n",
       "      <td>...</td>\n",
       "      <td>25.15</td>\n",
       "      <td>0 days 00:22:20.970322</td>\n",
       "      <td>22.33</td>\n",
       "      <td>0 days 01:00:24.293963</td>\n",
       "      <td>60.40</td>\n",
       "      <td>21</td>\n",
       "      <td>10012</td>\n",
       "      <td>10002</td>\n",
       "      <td>5.88</td>\n",
       "      <td>0.76</td>\n",
       "    </tr>\n",
       "    <tr>\n",
       "      <th>2</th>\n",
       "      <td>1476547</td>\n",
       "      <td>83095</td>\n",
       "      <td>132725</td>\n",
       "      <td>bicycle</td>\n",
       "      <td>Bareburger</td>\n",
       "      <td>Burger</td>\n",
       "      <td>Bare Sodas</td>\n",
       "      <td>1.0</td>\n",
       "      <td>Drinks</td>\n",
       "      <td>0 days 00:06:44.541717</td>\n",
       "      <td>...</td>\n",
       "      <td>6.73</td>\n",
       "      <td>0 days 00:21:51.191405</td>\n",
       "      <td>21.85</td>\n",
       "      <td>0 days 00:24:47.980568</td>\n",
       "      <td>24.78</td>\n",
       "      <td>21</td>\n",
       "      <td>10012</td>\n",
       "      <td>10012</td>\n",
       "      <td>1.28</td>\n",
       "      <td>0.27</td>\n",
       "    </tr>\n",
       "    <tr>\n",
       "      <th>3</th>\n",
       "      <td>1485494</td>\n",
       "      <td>271149</td>\n",
       "      <td>157175</td>\n",
       "      <td>bicycle</td>\n",
       "      <td>Juice Press</td>\n",
       "      <td>Juice Bar</td>\n",
       "      <td>OMG! My Favorite Juice!</td>\n",
       "      <td>1.0</td>\n",
       "      <td>Cold Pressed Juices</td>\n",
       "      <td>NaT</td>\n",
       "      <td>...</td>\n",
       "      <td>NaN</td>\n",
       "      <td>0 days 00:12:20.136239</td>\n",
       "      <td>12.33</td>\n",
       "      <td>0 days 00:38:26.558167</td>\n",
       "      <td>38.43</td>\n",
       "      <td>10</td>\n",
       "      <td>10014</td>\n",
       "      <td>10001</td>\n",
       "      <td>8.60</td>\n",
       "      <td>1.26</td>\n",
       "    </tr>\n",
       "    <tr>\n",
       "      <th>4</th>\n",
       "      <td>1327707</td>\n",
       "      <td>122609</td>\n",
       "      <td>118095</td>\n",
       "      <td>bicycle</td>\n",
       "      <td>Blue Ribbon Sushi</td>\n",
       "      <td>Japanese</td>\n",
       "      <td>Spicy Tuna &amp; Tempura Flakes</td>\n",
       "      <td>2.0</td>\n",
       "      <td>Maki (Special Rolls)</td>\n",
       "      <td>0 days 00:03:45.035418</td>\n",
       "      <td>...</td>\n",
       "      <td>3.75</td>\n",
       "      <td>0 days 00:10:36.698071</td>\n",
       "      <td>10.60</td>\n",
       "      <td>0 days 00:41:08.700090</td>\n",
       "      <td>41.13</td>\n",
       "      <td>0</td>\n",
       "      <td>10012</td>\n",
       "      <td>10280</td>\n",
       "      <td>12.62</td>\n",
       "      <td>2.19</td>\n",
       "    </tr>\n",
       "  </tbody>\n",
       "</table>\n",
       "<p>5 rows × 28 columns</p>\n",
       "</div>"
      ],
      "text/plain": [
       "   delivery_id  customer_id  jumpman_id vehicle_type         pickup_place  \\\n",
       "0      1457973       327168      162381          van            Melt Shop   \n",
       "1      1377056        64452      104533      bicycle  Prince Street Pizza   \n",
       "2      1476547        83095      132725      bicycle           Bareburger   \n",
       "3      1485494       271149      157175      bicycle          Juice Press   \n",
       "4      1327707       122609      118095      bicycle    Blue Ribbon Sushi   \n",
       "\n",
       "  place_category                    item_name  item_quantity  \\\n",
       "0       American                     Lemonade            1.0   \n",
       "1          Pizza        Neapolitan Rice Balls            3.0   \n",
       "2         Burger                   Bare Sodas            1.0   \n",
       "3      Juice Bar      OMG! My Favorite Juice!            1.0   \n",
       "4       Japanese  Spicy Tuna & Tempura Flakes            2.0   \n",
       "\n",
       "     item_category_name how_long_it_took_to_order  ...  \\\n",
       "0             Beverages    0 days 00:19:58.582052  ...   \n",
       "1            Munchables    0 days 00:25:09.107093  ...   \n",
       "2                Drinks    0 days 00:06:44.541717  ...   \n",
       "3   Cold Pressed Juices                       NaT  ...   \n",
       "4  Maki (Special Rolls)    0 days 00:03:45.035418  ...   \n",
       "\n",
       "   how_long_it_took_to_order_in_minutes  time_spent_at_merchant  \\\n",
       "0                                 19.97                     NaT   \n",
       "1                                 25.15  0 days 00:22:20.970322   \n",
       "2                                  6.73  0 days 00:21:51.191405   \n",
       "3                                   NaN  0 days 00:12:20.136239   \n",
       "4                                  3.75  0 days 00:10:36.698071   \n",
       "\n",
       "   time_spent_at_merchant_minutes          delivery_time  \\\n",
       "0                             NaN 0 days 01:00:06.414164   \n",
       "1                           22.33 0 days 01:00:24.293963   \n",
       "2                           21.85 0 days 00:24:47.980568   \n",
       "3                           12.33 0 days 00:38:26.558167   \n",
       "4                           10.60 0 days 00:41:08.700090   \n",
       "\n",
       "  delivery_time_minutes delivery_start_hour pickup_zipcode dropoff_zipcode  \\\n",
       "0                 60.10                  13          10010           10018   \n",
       "1                 60.40                  21          10012           10002   \n",
       "2                 24.78                  21          10012           10012   \n",
       "3                 38.43                  10          10014           10001   \n",
       "4                 41.13                   0          10012           10280   \n",
       "\n",
       "   maps_api_route_time maps_api_route_distance  \n",
       "0                 6.02                    1.07  \n",
       "1                 5.88                    0.76  \n",
       "2                 1.28                    0.27  \n",
       "3                 8.60                    1.26  \n",
       "4                12.62                    2.19  \n",
       "\n",
       "[5 rows x 28 columns]"
      ]
     },
     "execution_count": 5,
     "metadata": {},
     "output_type": "execute_result"
    }
   ],
   "source": [
    "df_adjusted.head()"
   ]
  },
  {
   "cell_type": "markdown",
   "metadata": {},
   "source": [
    "Then we can move onto generating descriptive statistics for our dataset if applicable."
   ]
  },
  {
   "cell_type": "code",
   "execution_count": 6,
   "metadata": {
    "scrolled": false
   },
   "outputs": [
    {
     "data": {
      "text/html": [
       "<div>\n",
       "<style scoped>\n",
       "    .dataframe tbody tr th:only-of-type {\n",
       "        vertical-align: middle;\n",
       "    }\n",
       "\n",
       "    .dataframe tbody tr th {\n",
       "        vertical-align: top;\n",
       "    }\n",
       "\n",
       "    .dataframe thead th {\n",
       "        text-align: right;\n",
       "    }\n",
       "</style>\n",
       "<table border=\"1\" class=\"dataframe\">\n",
       "  <thead>\n",
       "    <tr style=\"text-align: right;\">\n",
       "      <th></th>\n",
       "      <th>delivery_id</th>\n",
       "      <th>customer_id</th>\n",
       "      <th>jumpman_id</th>\n",
       "      <th>item_quantity</th>\n",
       "      <th>how_long_it_took_to_order</th>\n",
       "      <th>pickup_lat</th>\n",
       "      <th>pickup_lon</th>\n",
       "      <th>dropoff_lat</th>\n",
       "      <th>dropoff_lon</th>\n",
       "      <th>how_long_it_took_to_order_in_minutes</th>\n",
       "      <th>time_spent_at_merchant</th>\n",
       "      <th>time_spent_at_merchant_minutes</th>\n",
       "      <th>delivery_time</th>\n",
       "      <th>delivery_time_minutes</th>\n",
       "      <th>delivery_start_hour</th>\n",
       "      <th>maps_api_route_time</th>\n",
       "      <th>maps_api_route_distance</th>\n",
       "    </tr>\n",
       "  </thead>\n",
       "  <tbody>\n",
       "    <tr>\n",
       "      <th>count</th>\n",
       "      <td>5.983000e+03</td>\n",
       "      <td>5983.000000</td>\n",
       "      <td>5983.000000</td>\n",
       "      <td>4753.000000</td>\n",
       "      <td>3038</td>\n",
       "      <td>5983.000000</td>\n",
       "      <td>5983.000000</td>\n",
       "      <td>5983.000000</td>\n",
       "      <td>5983.000000</td>\n",
       "      <td>3038.000000</td>\n",
       "      <td>5433</td>\n",
       "      <td>5433.000000</td>\n",
       "      <td>5983</td>\n",
       "      <td>5983.000000</td>\n",
       "      <td>5983.000000</td>\n",
       "      <td>5983.000000</td>\n",
       "      <td>5983.000000</td>\n",
       "    </tr>\n",
       "    <tr>\n",
       "      <th>mean</th>\n",
       "      <td>1.379495e+06</td>\n",
       "      <td>176472.595521</td>\n",
       "      <td>102661.602541</td>\n",
       "      <td>1.248264</td>\n",
       "      <td>0 days 00:07:49.173169902</td>\n",
       "      <td>40.741425</td>\n",
       "      <td>-73.987101</td>\n",
       "      <td>40.744216</td>\n",
       "      <td>-73.985765</td>\n",
       "      <td>7.811004</td>\n",
       "      <td>0 days 00:18:54.965448500</td>\n",
       "      <td>18.907828</td>\n",
       "      <td>0 days 00:46:04.870654038</td>\n",
       "      <td>46.072761</td>\n",
       "      <td>16.480862</td>\n",
       "      <td>10.393667</td>\n",
       "      <td>1.597018</td>\n",
       "    </tr>\n",
       "    <tr>\n",
       "      <th>std</th>\n",
       "      <td>6.459397e+04</td>\n",
       "      <td>116414.487842</td>\n",
       "      <td>48607.211795</td>\n",
       "      <td>0.785904</td>\n",
       "      <td>0 days 00:05:39.647884785</td>\n",
       "      <td>0.022833</td>\n",
       "      <td>0.014896</td>\n",
       "      <td>0.025251</td>\n",
       "      <td>0.018060</td>\n",
       "      <td>5.660782</td>\n",
       "      <td>0 days 00:12:26.868365377</td>\n",
       "      <td>12.447894</td>\n",
       "      <td>0 days 00:20:13.598486661</td>\n",
       "      <td>20.226546</td>\n",
       "      <td>4.380200</td>\n",
       "      <td>8.398950</td>\n",
       "      <td>1.327850</td>\n",
       "    </tr>\n",
       "    <tr>\n",
       "      <th>min</th>\n",
       "      <td>1.271706e+06</td>\n",
       "      <td>242.000000</td>\n",
       "      <td>3296.000000</td>\n",
       "      <td>1.000000</td>\n",
       "      <td>0 days 00:01:22.997519</td>\n",
       "      <td>40.665611</td>\n",
       "      <td>-74.015837</td>\n",
       "      <td>40.649356</td>\n",
       "      <td>-74.017679</td>\n",
       "      <td>1.370000</td>\n",
       "      <td>0 days 00:00:00.112647</td>\n",
       "      <td>0.000000</td>\n",
       "      <td>0 days 00:03:02.830850</td>\n",
       "      <td>3.030000</td>\n",
       "      <td>0.000000</td>\n",
       "      <td>0.030000</td>\n",
       "      <td>0.010000</td>\n",
       "    </tr>\n",
       "    <tr>\n",
       "      <th>25%</th>\n",
       "      <td>1.322792e+06</td>\n",
       "      <td>77817.000000</td>\n",
       "      <td>60761.000000</td>\n",
       "      <td>1.000000</td>\n",
       "      <td>0 days 00:04:26.916916</td>\n",
       "      <td>40.724340</td>\n",
       "      <td>-73.996630</td>\n",
       "      <td>40.725307</td>\n",
       "      <td>-74.000297</td>\n",
       "      <td>4.435000</td>\n",
       "      <td>0 days 00:10:49.009145</td>\n",
       "      <td>10.820000</td>\n",
       "      <td>0 days 00:32:40.034945</td>\n",
       "      <td>32.670000</td>\n",
       "      <td>13.000000</td>\n",
       "      <td>5.210000</td>\n",
       "      <td>0.730000</td>\n",
       "    </tr>\n",
       "    <tr>\n",
       "      <th>50%</th>\n",
       "      <td>1.375689e+06</td>\n",
       "      <td>131093.000000</td>\n",
       "      <td>113364.000000</td>\n",
       "      <td>1.000000</td>\n",
       "      <td>0 days 00:06:17.250409</td>\n",
       "      <td>40.735677</td>\n",
       "      <td>-73.988682</td>\n",
       "      <td>40.740424</td>\n",
       "      <td>-73.989280</td>\n",
       "      <td>6.280000</td>\n",
       "      <td>0 days 00:15:48.615535</td>\n",
       "      <td>15.800000</td>\n",
       "      <td>0 days 00:42:40.486114</td>\n",
       "      <td>42.670000</td>\n",
       "      <td>18.000000</td>\n",
       "      <td>8.430000</td>\n",
       "      <td>1.240000</td>\n",
       "    </tr>\n",
       "    <tr>\n",
       "      <th>75%</th>\n",
       "      <td>1.436371e+06</td>\n",
       "      <td>293381.000000</td>\n",
       "      <td>143807.000000</td>\n",
       "      <td>1.000000</td>\n",
       "      <td>0 days 00:09:12.073802500</td>\n",
       "      <td>40.758726</td>\n",
       "      <td>-73.980739</td>\n",
       "      <td>40.763885</td>\n",
       "      <td>-73.974696</td>\n",
       "      <td>9.192500</td>\n",
       "      <td>0 days 00:23:50.280362</td>\n",
       "      <td>23.830000</td>\n",
       "      <td>0 days 00:55:07.618052</td>\n",
       "      <td>55.120000</td>\n",
       "      <td>20.000000</td>\n",
       "      <td>13.270000</td>\n",
       "      <td>2.020000</td>\n",
       "    </tr>\n",
       "    <tr>\n",
       "      <th>max</th>\n",
       "      <td>1.491424e+06</td>\n",
       "      <td>405547.000000</td>\n",
       "      <td>181543.000000</td>\n",
       "      <td>16.000000</td>\n",
       "      <td>0 days 01:13:13.266118</td>\n",
       "      <td>40.818082</td>\n",
       "      <td>-73.920980</td>\n",
       "      <td>40.848324</td>\n",
       "      <td>-73.924124</td>\n",
       "      <td>73.220000</td>\n",
       "      <td>0 days 04:27:57.242617</td>\n",
       "      <td>267.950000</td>\n",
       "      <td>0 days 05:40:18.528600</td>\n",
       "      <td>340.300000</td>\n",
       "      <td>23.000000</td>\n",
       "      <td>131.820000</td>\n",
       "      <td>11.190000</td>\n",
       "    </tr>\n",
       "  </tbody>\n",
       "</table>\n",
       "</div>"
      ],
      "text/plain": [
       "        delivery_id    customer_id     jumpman_id  item_quantity  \\\n",
       "count  5.983000e+03    5983.000000    5983.000000    4753.000000   \n",
       "mean   1.379495e+06  176472.595521  102661.602541       1.248264   \n",
       "std    6.459397e+04  116414.487842   48607.211795       0.785904   \n",
       "min    1.271706e+06     242.000000    3296.000000       1.000000   \n",
       "25%    1.322792e+06   77817.000000   60761.000000       1.000000   \n",
       "50%    1.375689e+06  131093.000000  113364.000000       1.000000   \n",
       "75%    1.436371e+06  293381.000000  143807.000000       1.000000   \n",
       "max    1.491424e+06  405547.000000  181543.000000      16.000000   \n",
       "\n",
       "       how_long_it_took_to_order   pickup_lat   pickup_lon  dropoff_lat  \\\n",
       "count                       3038  5983.000000  5983.000000  5983.000000   \n",
       "mean   0 days 00:07:49.173169902    40.741425   -73.987101    40.744216   \n",
       "std    0 days 00:05:39.647884785     0.022833     0.014896     0.025251   \n",
       "min       0 days 00:01:22.997519    40.665611   -74.015837    40.649356   \n",
       "25%       0 days 00:04:26.916916    40.724340   -73.996630    40.725307   \n",
       "50%       0 days 00:06:17.250409    40.735677   -73.988682    40.740424   \n",
       "75%    0 days 00:09:12.073802500    40.758726   -73.980739    40.763885   \n",
       "max       0 days 01:13:13.266118    40.818082   -73.920980    40.848324   \n",
       "\n",
       "       dropoff_lon  how_long_it_took_to_order_in_minutes  \\\n",
       "count  5983.000000                           3038.000000   \n",
       "mean    -73.985765                              7.811004   \n",
       "std       0.018060                              5.660782   \n",
       "min     -74.017679                              1.370000   \n",
       "25%     -74.000297                              4.435000   \n",
       "50%     -73.989280                              6.280000   \n",
       "75%     -73.974696                              9.192500   \n",
       "max     -73.924124                             73.220000   \n",
       "\n",
       "          time_spent_at_merchant  time_spent_at_merchant_minutes  \\\n",
       "count                       5433                     5433.000000   \n",
       "mean   0 days 00:18:54.965448500                       18.907828   \n",
       "std    0 days 00:12:26.868365377                       12.447894   \n",
       "min       0 days 00:00:00.112647                        0.000000   \n",
       "25%       0 days 00:10:49.009145                       10.820000   \n",
       "50%       0 days 00:15:48.615535                       15.800000   \n",
       "75%       0 days 00:23:50.280362                       23.830000   \n",
       "max       0 days 04:27:57.242617                      267.950000   \n",
       "\n",
       "                   delivery_time  delivery_time_minutes  delivery_start_hour  \\\n",
       "count                       5983            5983.000000          5983.000000   \n",
       "mean   0 days 00:46:04.870654038              46.072761            16.480862   \n",
       "std    0 days 00:20:13.598486661              20.226546             4.380200   \n",
       "min       0 days 00:03:02.830850               3.030000             0.000000   \n",
       "25%       0 days 00:32:40.034945              32.670000            13.000000   \n",
       "50%       0 days 00:42:40.486114              42.670000            18.000000   \n",
       "75%       0 days 00:55:07.618052              55.120000            20.000000   \n",
       "max       0 days 05:40:18.528600             340.300000            23.000000   \n",
       "\n",
       "       maps_api_route_time  maps_api_route_distance  \n",
       "count          5983.000000              5983.000000  \n",
       "mean             10.393667                 1.597018  \n",
       "std               8.398950                 1.327850  \n",
       "min               0.030000                 0.010000  \n",
       "25%               5.210000                 0.730000  \n",
       "50%               8.430000                 1.240000  \n",
       "75%              13.270000                 2.020000  \n",
       "max             131.820000                11.190000  "
      ]
     },
     "execution_count": 6,
     "metadata": {},
     "output_type": "execute_result"
    }
   ],
   "source": [
    "df_adjusted.describe()"
   ]
  },
  {
   "cell_type": "markdown",
   "metadata": {},
   "source": [
    "It should be one of the first things to check if there are any missing data in the given set. We were already able to catch some rows with missing values after displaying first five rows but let's look at how many missing data in each column."
   ]
  },
  {
   "cell_type": "code",
   "execution_count": 7,
   "metadata": {},
   "outputs": [
    {
     "data": {
      "text/plain": [
       "delivery_id                                0\n",
       "customer_id                                0\n",
       "jumpman_id                                 0\n",
       "vehicle_type                               0\n",
       "pickup_place                               0\n",
       "place_category                           883\n",
       "item_name                               1230\n",
       "item_quantity                           1230\n",
       "item_category_name                      1230\n",
       "how_long_it_took_to_order               2945\n",
       "pickup_lat                                 0\n",
       "pickup_lon                                 0\n",
       "dropoff_lat                                0\n",
       "dropoff_lon                                0\n",
       "when_the_delivery_started                  0\n",
       "when_the_Jumpman_arrived_at_pickup       550\n",
       "when_the_Jumpman_left_pickup             550\n",
       "when_the_Jumpman_arrived_at_dropoff        0\n",
       "how_long_it_took_to_order_in_minutes    2945\n",
       "time_spent_at_merchant                   550\n",
       "time_spent_at_merchant_minutes           550\n",
       "delivery_time                              0\n",
       "delivery_time_minutes                      0\n",
       "delivery_start_hour                        0\n",
       "pickup_zipcode                             0\n",
       "dropoff_zipcode                            0\n",
       "maps_api_route_time                        0\n",
       "maps_api_route_distance                    0\n",
       "dtype: int64"
      ]
     },
     "execution_count": 7,
     "metadata": {},
     "output_type": "execute_result"
    }
   ],
   "source": [
    "df_adjusted.isnull().sum()"
   ]
  },
  {
   "cell_type": "markdown",
   "metadata": {},
   "source": [
    "In order to have an understanding of things like how many customers used the platform or how many jumpman completed deliver during given time period, we can check number of unique values for each column."
   ]
  },
  {
   "cell_type": "code",
   "execution_count": 8,
   "metadata": {},
   "outputs": [
    {
     "data": {
      "text/plain": [
       "delivery_id                             5214\n",
       "customer_id                             3192\n",
       "jumpman_id                               578\n",
       "vehicle_type                               7\n",
       "pickup_place                             898\n",
       "place_category                            57\n",
       "item_name                               2277\n",
       "item_quantity                             11\n",
       "item_category_name                       767\n",
       "how_long_it_took_to_order               2579\n",
       "pickup_lat                              1210\n",
       "pickup_lon                              1179\n",
       "dropoff_lat                             2841\n",
       "dropoff_lon                             2839\n",
       "when_the_delivery_started               5214\n",
       "when_the_Jumpman_arrived_at_pickup      4719\n",
       "when_the_Jumpman_left_pickup            4717\n",
       "when_the_Jumpman_arrived_at_dropoff     5214\n",
       "how_long_it_took_to_order_in_minutes     846\n",
       "time_spent_at_merchant                  4719\n",
       "time_spent_at_merchant_minutes          1366\n",
       "delivery_time                           5214\n",
       "delivery_time_minutes                   2825\n",
       "delivery_start_hour                       23\n",
       "pickup_zipcode                            59\n",
       "dropoff_zipcode                           65\n",
       "maps_api_route_time                     1427\n",
       "maps_api_route_distance                  592\n",
       "dtype: int64"
      ]
     },
     "execution_count": 8,
     "metadata": {},
     "output_type": "execute_result"
    }
   ],
   "source": [
    "df_adjusted.nunique()"
   ]
  },
  {
   "cell_type": "markdown",
   "metadata": {},
   "source": [
    "We already have latitudes and longitudes for pickup and dropoff points and by using gmaps library, we can create a heatmap showing frequency of pickups or dropoffs per hour. Hour can be changed using the sliding widget on both maps."
   ]
  },
  {
   "cell_type": "code",
   "execution_count": 9,
   "metadata": {},
   "outputs": [
    {
     "data": {
      "application/vnd.jupyter.widget-view+json": {
       "model_id": "6d1b7802f93444a098b3e5456f3530f8",
       "version_major": 2,
       "version_minor": 0
      },
      "text/plain": [
       "VBox(children=(HTML(value='<h3>Jumpman23 Hourly Pickups</h3>'), HBox(children=(SelectionSlider(description='Ho…"
      ]
     },
     "metadata": {},
     "output_type": "display_data"
    },
    {
     "data": {
      "application/vnd.jupyter.widget-view+json": {
       "model_id": "91a229f5369646979f539ebc77a0e4cd",
       "version_major": 2,
       "version_minor": 0
      },
      "text/plain": [
       "VBox(children=(HTML(value='<h3>Jumpman23 Hourly Dropoffs</h3>'), HBox(children=(SelectionSlider(description='H…"
      ]
     },
     "metadata": {},
     "output_type": "display_data"
    }
   ],
   "source": [
    "class Vertical(object):    \n",
    "    class PickupExplorer(object):\n",
    "        \"\"\"\n",
    "        Jupyter widget for exploring the Jumpman23 dataset for NYC.\n",
    "\n",
    "        The user uses the slider to choose an hour. This renders\n",
    "        heatmaps of pickups and dropoffs separately.\n",
    "        \"\"\"\n",
    "        def __init__(self, df_adjusted):\n",
    "            self._df_adjusted = df_adjusted\n",
    "            self._heatmap = None\n",
    "            self._slider = None\n",
    "            initial_hour = min(self._df_adjusted['when_the_delivery_started'].dt.hour)\n",
    "            title_widget = widgets.HTML(\n",
    "                '<h3>Jumpman23 Hourly Pickups</h3>'\n",
    "            )\n",
    "\n",
    "            map_figure = self._render_map(initial_hour)\n",
    "            controls = self._render_controls(initial_hour)\n",
    "            self._container = widgets.VBox([title_widget, controls, map_figure])\n",
    "\n",
    "        def render(self):\n",
    "            display(self._container)\n",
    "\n",
    "        def _on_hour_change(self, change):\n",
    "            hour = self._slider.value\n",
    "            self._heatmap.locations = self._locations_for_hour(hour)\n",
    "            self._total_box.value = self._total_actions_text_for_hour(hour)\n",
    "            return self._container\n",
    "\n",
    "        def _render_map(self, initial_hour):\n",
    "            fig = gmaps.figure(map_type='ROADMAP',center=new_york_coordinates, zoom_level=11)\n",
    "            self._heatmap = gmaps.heatmap_layer(\n",
    "                self._locations_for_hour(initial_hour),\n",
    "                max_intensity=1,\n",
    "                point_radius=7\n",
    "            )\n",
    "            fig.add_layer(self._heatmap)\n",
    "            return fig\n",
    "\n",
    "        def _render_controls(self, initial_hour):\n",
    "            style = {'description_width': 'initial'}\n",
    "            self._slider = widgets.SelectionSlider(\n",
    "                options=np.sort(df_adjusted['when_the_delivery_started'].dt.hour.unique()),\n",
    "                value=np.sort(df_adjusted['when_the_delivery_started'].dt.hour.unique())[0],\n",
    "                description='Hour of the day', style=style,\n",
    "                disabled=False,\n",
    "                continuous_update=True,\n",
    "                orientation='horizontal',\n",
    "                readout=True\n",
    "            )\n",
    "            self._total_box = widgets.Label(\n",
    "                value=self._total_actions_text_for_hour(initial_hour)\n",
    "            )\n",
    "            self._slider.observe(self._on_hour_change, names='value')\n",
    "            controls = widgets.HBox(\n",
    "                [self._slider, self._total_box],\n",
    "                layout={'justify_content': 'space-between'}\n",
    "            )\n",
    "            return controls  \n",
    "\n",
    "        def _locations_for_hour(self, hour):\n",
    "                return self._df_adjusted[self._df_adjusted['when_the_delivery_started'].dt.hour == hour][['pickup_lat', 'pickup_lon']]\n",
    "        def _total_actions_for_hour(self, hour):\n",
    "            return int(self._df_adjusted[self._df_adjusted['when_the_delivery_started'].dt.hour == hour]['when_the_delivery_started'].dt.hour.count())\n",
    "        def _total_actions_text_for_hour(self, hour):\n",
    "            return '{} pickups by Jumpmen'.format(self._total_actions_for_hour(hour))\n",
    "    class DropoffExplorer(object):\n",
    "        \"\"\"\n",
    "        Jupyter widget for exploring the Jumpman23 dataset for NYC.\n",
    "\n",
    "        The user uses the slider to choose an hour. This renders\n",
    "        a heatmap of pickups or dropoffs.\n",
    "        \"\"\"\n",
    "        def __init__(self, df_adjusted):\n",
    "            self._df_adjusted = df_adjusted\n",
    "            self._heatmap = None\n",
    "            self._slider = None\n",
    "            initial_hour = min(self._df_adjusted['when_the_Jumpman_arrived_at_dropoff'].dt.hour)\n",
    "            title_widget = widgets.HTML(\n",
    "                '<h3>Jumpman23 Hourly Dropoffs</h3>'\n",
    "            )\n",
    "\n",
    "            map_figure = self._render_map(initial_hour)\n",
    "            controls = self._render_controls(initial_hour)\n",
    "            self._container = widgets.VBox([title_widget, controls, map_figure])\n",
    "\n",
    "        def render(self):\n",
    "            display(self._container)\n",
    "\n",
    "        def _on_hour_change(self, change):\n",
    "            hour = self._slider.value\n",
    "            self._heatmap.locations = self._locations_for_hour(hour)\n",
    "            self._total_box.value = self._total_actions_text_for_hour(hour)\n",
    "            return self._container\n",
    "\n",
    "        def _render_map(self, initial_hour):\n",
    "            fig = gmaps.figure(map_type='ROADMAP',center=new_york_coordinates, zoom_level=11)\n",
    "            self._heatmap = gmaps.heatmap_layer(\n",
    "                self._locations_for_hour(initial_hour),\n",
    "                max_intensity=1,\n",
    "                point_radius=7\n",
    "            )\n",
    "            fig.add_layer(self._heatmap)\n",
    "            return fig\n",
    "\n",
    "        def _render_controls(self, initial_hour):\n",
    "            style = {'description_width': 'initial'}\n",
    "            self._slider = widgets.SelectionSlider(\n",
    "                options=np.sort(df_adjusted['when_the_Jumpman_arrived_at_dropoff'].dt.hour.unique()),\n",
    "                value=np.sort(df_adjusted['when_the_Jumpman_arrived_at_dropoff'].dt.hour.unique())[0],\n",
    "                description='Hour of the day',style=style,\n",
    "                disabled=False,\n",
    "                continuous_update=True,\n",
    "                orientation='horizontal',\n",
    "                readout=True\n",
    "            )\n",
    "            self._total_box = widgets.Label(\n",
    "                value=self._total_actions_text_for_hour(initial_hour)\n",
    "            )\n",
    "            self._slider.observe(self._on_hour_change, names='value')\n",
    "            controls = widgets.HBox(\n",
    "                [self._slider, self._total_box],\n",
    "                layout={'justify_content': 'space-between'}\n",
    "            )\n",
    "            return controls  \n",
    "\n",
    "        def _locations_for_hour(self, hour):\n",
    "            return self._df_adjusted[self._df_adjusted['when_the_Jumpman_arrived_at_dropoff'].dt.hour == hour][['dropoff_lat', 'dropoff_lon']]\n",
    "\n",
    "        def _total_actions_for_hour(self, hour):\n",
    "            return int(self._df_adjusted[self._df_adjusted['when_the_Jumpman_arrived_at_dropoff'].dt.hour == hour]['when_the_Jumpman_arrived_at_dropoff'].dt.hour.count())\n",
    "\n",
    "        def _total_actions_text_for_hour(self, hour):\n",
    "            return '{} dropoffs at customers'.format(self._total_actions_for_hour(hour))\n",
    "        \n",
    "\n",
    "    PickupExplorer(df_adjusted).render()\n",
    "\n",
    "    DropoffExplorer(df_adjusted).render()"
   ]
  },
  {
   "cell_type": "markdown",
   "metadata": {},
   "source": [
    "![GifUrl](https://media.giphy.com/media/3pJ8r9x5stkgA5zxnt/giphy.gif \"Pickup and Dropoff Heatmaps\")"
   ]
  },
  {
   "cell_type": "markdown",
   "metadata": {},
   "source": [
    "We can produce the same map for the days of the week."
   ]
  },
  {
   "cell_type": "code",
   "execution_count": 10,
   "metadata": {},
   "outputs": [
    {
     "data": {
      "application/vnd.jupyter.widget-view+json": {
       "model_id": "690dd8b480fa40a9a3c972280721ec51",
       "version_major": 2,
       "version_minor": 0
      },
      "text/plain": [
       "VBox(children=(HTML(value='<h3>Jumpman23 Daily Pickups</h3>'), HBox(children=(SelectionSlider(description='Day…"
      ]
     },
     "metadata": {},
     "output_type": "display_data"
    },
    {
     "data": {
      "application/vnd.jupyter.widget-view+json": {
       "model_id": "01484b21fb44497db83be5d942d55529",
       "version_major": 2,
       "version_minor": 0
      },
      "text/plain": [
       "VBox(children=(HTML(value='<h3>Jumpman23 Daily Dropoffs</h3>'), HBox(children=(SelectionSlider(description='Da…"
      ]
     },
     "metadata": {},
     "output_type": "display_data"
    }
   ],
   "source": [
    "class VerticalWeek(object):    \n",
    "    class PickupExplorer_Week(object):\n",
    "        \"\"\"\n",
    "        Jupyter widget for exploring the Jumpman23 dataset for NYC.\n",
    "\n",
    "        The user uses the slider to choose an hour. This renders\n",
    "        heatmaps of pickups and dropoffs separately.\n",
    "        \"\"\"\n",
    "        def __init__(self, df_adjusted):\n",
    "            self._df_adjusted = df_adjusted\n",
    "            self._heatmap = None\n",
    "            self._slider = None\n",
    "            initial_day = 0\n",
    "            title_widget = widgets.HTML(\n",
    "                '<h3>Jumpman23 Daily Pickups</h3>'\n",
    "            )\n",
    "\n",
    "            map_figure = self._render_map(initial_day)\n",
    "            controls = self._render_controls(initial_day)\n",
    "            self._container = widgets.VBox([title_widget, controls, map_figure])\n",
    "\n",
    "        def render(self):\n",
    "            display(self._container)\n",
    "\n",
    "        def _on_day_change(self, change):\n",
    "            day = self._slider.value\n",
    "            self._heatmap.locations = self._locations_for_day(day)\n",
    "            self._total_box.value = self._total_actions_text_for_day(day)\n",
    "            return self._container\n",
    "\n",
    "        def _render_map(self, initial_day):\n",
    "            fig = gmaps.figure(map_type='ROADMAP',center=new_york_coordinates, zoom_level=11)\n",
    "            self._heatmap = gmaps.heatmap_layer(\n",
    "                self._locations_for_day(initial_day),\n",
    "                max_intensity=1,\n",
    "                point_radius=7\n",
    "            )\n",
    "            fig.add_layer(self._heatmap)\n",
    "            return fig\n",
    "\n",
    "        def _render_controls(self, initial_day):\n",
    "            style = {'description_width': 'initial'}\n",
    "            self._slider = widgets.SelectionSlider(\n",
    "                options=np.sort(df_adjusted['when_the_Jumpman_arrived_at_dropoff'].dt.dayofweek.unique()),\n",
    "                value=np.sort(df_adjusted['when_the_Jumpman_arrived_at_dropoff'].dt.dayofweek.unique())[0],\n",
    "                description='Day of the week', style=style,\n",
    "                disabled=False,\n",
    "                continuous_update=True,\n",
    "                orientation='horizontal',\n",
    "                readout=True\n",
    "            )\n",
    "            self._total_box = widgets.Label(\n",
    "                value=self._total_actions_text_for_day(initial_day)\n",
    "            )\n",
    "            self._slider.observe(self._on_day_change, names='value')\n",
    "            controls = widgets.HBox(\n",
    "                [self._slider, self._total_box],\n",
    "                layout={'justify_content': 'space-between'}\n",
    "            )\n",
    "            return controls  \n",
    "\n",
    "        def _locations_for_day(self, day):\n",
    "                return self._df_adjusted[self._df_adjusted['when_the_delivery_started'].dt.dayofweek == day][['pickup_lat', 'pickup_lon']]\n",
    "        def _total_actions_for_day(self, day):\n",
    "            return int(self._df_adjusted[self._df_adjusted['when_the_delivery_started'].dt.dayofweek == day]['when_the_delivery_started'].dt.dayofweek.count())\n",
    "        def _total_actions_text_for_day(self, day):\n",
    "            return '{} pickups by Jumpmen'.format(self._total_actions_for_day(day))\n",
    "    class DropoffExplorer_Week(object):\n",
    "        \"\"\"\n",
    "        Jupyter widget for exploring the Jumpman23 dataset for NYC.\n",
    "\n",
    "        The user uses the slider to choose an hour. This renders\n",
    "        heatmaps of pickups and dropoffs separately.\n",
    "        \"\"\"\n",
    "        def __init__(self, df_adjusted):\n",
    "            self._df_adjusted = df_adjusted\n",
    "            self._heatmap = None\n",
    "            self._slider = None\n",
    "            initial_day = 0\n",
    "            title_widget = widgets.HTML(\n",
    "                '<h3>Jumpman23 Daily Dropoffs</h3>'\n",
    "            )\n",
    "\n",
    "            map_figure = self._render_map(initial_day)\n",
    "            controls = self._render_controls(initial_day)\n",
    "            self._container = widgets.VBox([title_widget, controls, map_figure])\n",
    "\n",
    "        def render(self):\n",
    "            display(self._container)\n",
    "\n",
    "        def _on_day_change(self, change):\n",
    "            day = self._slider.value\n",
    "            self._heatmap.locations = self._locations_for_day(day)\n",
    "            self._total_box.value = self._total_actions_text_for_day(day)\n",
    "            return self._container\n",
    "\n",
    "        def _render_map(self, initial_day):\n",
    "            fig = gmaps.figure(map_type='ROADMAP',center=new_york_coordinates, zoom_level=11)\n",
    "            self._heatmap = gmaps.heatmap_layer(\n",
    "                self._locations_for_day(initial_day),\n",
    "                max_intensity=1,\n",
    "                point_radius=7\n",
    "            )\n",
    "            fig.add_layer(self._heatmap)\n",
    "            return fig\n",
    "\n",
    "        def _render_controls(self, initial_day):\n",
    "            style = {'description_width': 'initial'}\n",
    "            self._slider = widgets.SelectionSlider(\n",
    "                options=np.sort(df_adjusted['when_the_Jumpman_arrived_at_dropoff'].dt.dayofweek.unique()),\n",
    "                value=np.sort(df_adjusted['when_the_Jumpman_arrived_at_dropoff'].dt.dayofweek.unique())[0],\n",
    "                description='Day of the week', style=style,\n",
    "                disabled=False,\n",
    "                continuous_update=True,\n",
    "                orientation='horizontal',\n",
    "                readout=True\n",
    "            )\n",
    "            self._total_box = widgets.Label(\n",
    "                value=self._total_actions_text_for_day(initial_day)\n",
    "            )\n",
    "            self._slider.observe(self._on_day_change, names='value')\n",
    "            controls = widgets.HBox(\n",
    "                [self._slider, self._total_box],\n",
    "                layout={'justify_content': 'space-between'}\n",
    "            )\n",
    "            return controls  \n",
    "\n",
    "        def _locations_for_day(self, day):\n",
    "                return self._df_adjusted[self._df_adjusted['when_the_Jumpman_arrived_at_dropoff'].dt.dayofweek == day][['pickup_lat', 'pickup_lon']]\n",
    "        def _total_actions_for_day(self, day):\n",
    "            return int(self._df_adjusted[self._df_adjusted['when_the_Jumpman_arrived_at_dropoff'].dt.dayofweek == day]['when_the_Jumpman_arrived_at_dropoff'].dt.dayofweek.count())\n",
    "        def _total_actions_text_for_day(self, day):\n",
    "            return '{} dropoffs at customers'.format(self._total_actions_for_day(day))\n",
    "\n",
    "    PickupExplorer_Week(df_adjusted).render()\n",
    "\n",
    "    DropoffExplorer_Week(df_adjusted).render()"
   ]
  },
  {
   "cell_type": "markdown",
   "metadata": {},
   "source": [
    "Maps shows us that throughout the day, majority of activity is happening across Manhattan and ocassionally in Brooklyn. Creating a histogram plot of the same except location and adding a breakdown based on mode of transportation should provide more insights."
   ]
  },
  {
   "cell_type": "code",
   "execution_count": 11,
   "metadata": {
    "scrolled": false
   },
   "outputs": [
    {
     "data": {
      "text/plain": [
       "Text(0.5, 1.0, 'Breakdown by hour and vehicle type')"
      ]
     },
     "execution_count": 11,
     "metadata": {},
     "output_type": "execute_result"
    },
    {
     "data": {
      "image/png": "[encoded data removed]",
      "text/plain": [
       "<Figure size 1080x720 with 2 Axes>"
      ]
     },
     "metadata": {
      "needs_background": "light"
     },
     "output_type": "display_data"
    }
   ],
   "source": [
    "fig, (ax1, ax2) = plt.subplots(1,2,figsize=(15,10))\n",
    "\n",
    "ax1.hist(df_adjusted['delivery_start_hour'],bins=df_adjusted['delivery_start_hour'].max() - df_adjusted['delivery_start_hour'].min(), rwidth=0.8)\n",
    "ax1.set_xlabel('Hour of the day')\n",
    "ax1.set_title('Total number of deliveries by hour')\n",
    "\n",
    "x1 = df_adjusted.loc[df_adjusted.vehicle_type=='bicycle', 'delivery_start_hour']\n",
    "x2 = df_adjusted.loc[df_adjusted.vehicle_type=='scooter', 'delivery_start_hour']\n",
    "x3 = df_adjusted.loc[df_adjusted.vehicle_type=='car', 'delivery_start_hour']\n",
    "x4 = df_adjusted.loc[df_adjusted.vehicle_type=='motorcycle', 'delivery_start_hour']\n",
    "x5 = df_adjusted.loc[df_adjusted.vehicle_type=='truck', 'delivery_start_hour']\n",
    "x6 = df_adjusted.loc[df_adjusted.vehicle_type=='van', 'delivery_start_hour']\n",
    "x7 = df_adjusted.loc[df_adjusted.vehicle_type=='walker', 'delivery_start_hour']\n",
    "ax2.hist(x1,bins=df_adjusted['delivery_start_hour'].max()-df_adjusted['delivery_start_hour'].min(), rwidth=0.8,stacked=True,color='green', label='bicycle')\n",
    "ax2.hist(x2,bins=df_adjusted['delivery_start_hour'].max()-df_adjusted['delivery_start_hour'].min(), rwidth=0.8,stacked=True,color='lime', label='scooter')\n",
    "ax2.hist(x3,bins=df_adjusted['delivery_start_hour'].max()-df_adjusted['delivery_start_hour'].min(), rwidth=0.8,stacked=True,color='orange', label='car')\n",
    "ax2.hist(x4,bins=df_adjusted['delivery_start_hour'].max()-df_adjusted['delivery_start_hour'].min(), rwidth=0.8,stacked=True,color='yellow', label='motorcycle')\n",
    "ax2.hist(x5,bins=df_adjusted['delivery_start_hour'].max()-df_adjusted['delivery_start_hour'].min(), rwidth=0.8,stacked=True,color='red', label='truck')\n",
    "ax2.hist(x6,bins=df_adjusted['delivery_start_hour'].max()-df_adjusted['delivery_start_hour'].min(), rwidth=0.8,stacked=True,color='darkred', label='van')\n",
    "ax2.hist(x7,bins=df_adjusted['delivery_start_hour'].max()-df_adjusted['delivery_start_hour'].min(), rwidth=0.8,stacked=True,color='blue', label='walker')\n",
    "ax2.axes.get_yaxis().set_visible(False)\n",
    "ax2.legend(prop={'size': 12})\n",
    "ax2.set_xlabel('Hour of the day')\n",
    "ax2.set_title('Breakdown by hour and vehicle type')"
   ]
  },
  {
   "cell_type": "markdown",
   "metadata": {},
   "source": [
    "Based on the data, we are able to identify that demand starts to increase in the afternoon and it reaches its peak at 7pm."
   ]
  },
  {
   "cell_type": "markdown",
   "metadata": {},
   "source": [
    "The chart above reveals that bicycle is the most preferred option among other alternatives and it is trailed by driving cars and walking. We can calculate the mean and median duration for deliveries grouped by mode of transporation and compare it with the output of Directios Matrix API(doesn't take traffic into consideration)."
   ]
  },
  {
   "cell_type": "code",
   "execution_count": 12,
   "metadata": {},
   "outputs": [
    {
     "data": {
      "text/html": [
       "<div>\n",
       "<style scoped>\n",
       "    .dataframe tbody tr th:only-of-type {\n",
       "        vertical-align: middle;\n",
       "    }\n",
       "\n",
       "    .dataframe tbody tr th {\n",
       "        vertical-align: top;\n",
       "    }\n",
       "\n",
       "    .dataframe thead tr th {\n",
       "        text-align: left;\n",
       "    }\n",
       "\n",
       "    .dataframe thead tr:last-of-type th {\n",
       "        text-align: right;\n",
       "    }\n",
       "</style>\n",
       "<table border=\"1\" class=\"dataframe\">\n",
       "  <thead>\n",
       "    <tr>\n",
       "      <th></th>\n",
       "      <th colspan=\"2\" halign=\"left\">delivery_time_minutes</th>\n",
       "      <th colspan=\"2\" halign=\"left\">maps_api_route_time</th>\n",
       "    </tr>\n",
       "    <tr>\n",
       "      <th></th>\n",
       "      <th>mean</th>\n",
       "      <th>median</th>\n",
       "      <th>mean</th>\n",
       "      <th>median</th>\n",
       "    </tr>\n",
       "    <tr>\n",
       "      <th>vehicle_type</th>\n",
       "      <th></th>\n",
       "      <th></th>\n",
       "      <th></th>\n",
       "      <th></th>\n",
       "    </tr>\n",
       "  </thead>\n",
       "  <tbody>\n",
       "    <tr>\n",
       "      <th>bicycle</th>\n",
       "      <td>44.009406</td>\n",
       "      <td>41.26</td>\n",
       "      <td>9.296659</td>\n",
       "      <td>7.850</td>\n",
       "    </tr>\n",
       "    <tr>\n",
       "      <th>car</th>\n",
       "      <td>52.022527</td>\n",
       "      <td>47.57</td>\n",
       "      <td>10.455103</td>\n",
       "      <td>9.300</td>\n",
       "    </tr>\n",
       "    <tr>\n",
       "      <th>motorcycle</th>\n",
       "      <td>47.076667</td>\n",
       "      <td>44.00</td>\n",
       "      <td>9.970952</td>\n",
       "      <td>9.120</td>\n",
       "    </tr>\n",
       "    <tr>\n",
       "      <th>scooter</th>\n",
       "      <td>47.369867</td>\n",
       "      <td>44.68</td>\n",
       "      <td>10.254800</td>\n",
       "      <td>9.080</td>\n",
       "    </tr>\n",
       "    <tr>\n",
       "      <th>truck</th>\n",
       "      <td>65.710417</td>\n",
       "      <td>62.80</td>\n",
       "      <td>14.119792</td>\n",
       "      <td>13.565</td>\n",
       "    </tr>\n",
       "    <tr>\n",
       "      <th>van</th>\n",
       "      <td>50.423947</td>\n",
       "      <td>47.46</td>\n",
       "      <td>9.109474</td>\n",
       "      <td>8.075</td>\n",
       "    </tr>\n",
       "    <tr>\n",
       "      <th>walker</th>\n",
       "      <td>46.795949</td>\n",
       "      <td>45.36</td>\n",
       "      <td>27.006825</td>\n",
       "      <td>20.250</td>\n",
       "    </tr>\n",
       "  </tbody>\n",
       "</table>\n",
       "</div>"
      ],
      "text/plain": [
       "             delivery_time_minutes        maps_api_route_time        \n",
       "                              mean median                mean  median\n",
       "vehicle_type                                                         \n",
       "bicycle                  44.009406  41.26            9.296659   7.850\n",
       "car                      52.022527  47.57           10.455103   9.300\n",
       "motorcycle               47.076667  44.00            9.970952   9.120\n",
       "scooter                  47.369867  44.68           10.254800   9.080\n",
       "truck                    65.710417  62.80           14.119792  13.565\n",
       "van                      50.423947  47.46            9.109474   8.075\n",
       "walker                   46.795949  45.36           27.006825  20.250"
      ]
     },
     "execution_count": 12,
     "metadata": {},
     "output_type": "execute_result"
    }
   ],
   "source": [
    "df_adjusted.groupby(['vehicle_type']).agg({'delivery_time_minutes': ['mean','median'],'maps_api_route_time': ['mean','median']})"
   ]
  },
  {
   "cell_type": "markdown",
   "metadata": {},
   "source": [
    "Although calculated time between pickup and dropoff points using the API doesn't reflect the actual traffic, we can still utilize the data because majority of deliveries made using a bicycle. There is a significant variance between actual duration of delivery and the target. It makes sense to have a major difference on deliveries made with motor vehicles but walking and cyclying shouldn't differ at the same rate. One reason for this could be is difficulty accessing the perimeter at dropoff point or unable to find a parking spot etc."
   ]
  },
  {
   "cell_type": "code",
   "execution_count": 13,
   "metadata": {
    "scrolled": true
   },
   "outputs": [
    {
     "name": "stdout",
     "output_type": "stream",
     "text": [
      "419 pickup places are missing a category name\n"
     ]
    }
   ],
   "source": [
    "pickup_places_with_null_categories = df_adjusted[df_adjusted['place_category'].isnull()][\"pickup_place\"].value_counts(normalize=True)\n",
    "print('{} pickup places are missing a category name'.format(len(pickup_places_with_null_categories)))"
   ]
  },
  {
   "cell_type": "markdown",
   "metadata": {},
   "source": [
    "Missing values for place_category column are the easiest ones to fix since the data itself is static for the given time period and it is possible to backfill the data reliably."
   ]
  },
  {
   "cell_type": "markdown",
   "metadata": {},
   "source": [
    "It should be a good idea to order popular items from popular places to decrease wait times at these hot spots."
   ]
  },
  {
   "cell_type": "code",
   "execution_count": 20,
   "metadata": {},
   "outputs": [
    {
     "data": {
      "text/plain": [
       "Shake Shack                              311\n",
       "Momofuku Milk Bar                        186\n",
       "The Meatball Shop                        184\n",
       "Blue Ribbon Sushi                        151\n",
       "sweetgreen                               149\n",
       "Blue Ribbon Fried Chicken                133\n",
       "Whole Foods Market                       119\n",
       "Parm                                     102\n",
       "RedFarm Broadway                          93\n",
       "Mighty Quinn's BBQ                        90\n",
       "Chipotle Mexican Grill $1.99 Delivery     80\n",
       "Momofuku Noodle Bar                       74\n",
       "Hu Kitchen                                68\n",
       "Trader Joe's                              68\n",
       "TAO                                       67\n",
       "Han Dynasty                               66\n",
       "Sushi of Gari 46                          64\n",
       "Duane Reade                               64\n",
       "McDonald's                                62\n",
       "RedFarm Hudson                            60\n",
       "Doughnut Plant Chelsea                    60\n",
       "La Esquina Taqueria                       58\n",
       "Nobu Next Door                            56\n",
       "Blue Ribbon Sushi Bar & Grill             55\n",
       "Rubirosa                                  53\n",
       "Name: pickup_place, dtype: int64"
      ]
     },
     "execution_count": 20,
     "metadata": {},
     "output_type": "execute_result"
    }
   ],
   "source": [
    "df_adjusted['pickup_place'].value_counts().head(25)"
   ]
  },
  {
   "cell_type": "code",
   "execution_count": 22,
   "metadata": {},
   "outputs": [
    {
     "data": {
      "text/plain": [
       "pickup_place\n",
       "Denny's                          51.730000\n",
       "Trader Joe's                     51.234426\n",
       "Friend of a Farmer               51.000000\n",
       "Jack the Horse Tavern            50.750000\n",
       "Lantern Thai Kitchen             50.300000\n",
       "Nicola's Restaurant              48.670000\n",
       "Gemma at Bowery Hotel            46.330000\n",
       "Hester Street Fair               45.900000\n",
       "Fette Sau                        45.820000\n",
       "Amma                             44.947500\n",
       "Socarrat Paella Bar              44.666667\n",
       "Souen                            44.520000\n",
       "An Choi                          44.050000\n",
       "Chelsea Market                   43.460000\n",
       "Fairway Market                   43.330000\n",
       "Sugar Factory                    42.780000\n",
       "Whole Foods Market               42.718660\n",
       "Michael's                        42.350000\n",
       "Absolute Bagel                   39.930000\n",
       "Seasonal Restaurant & Weinbar    39.820000\n",
       "Name: time_spent_at_merchant_minutes, dtype: float64"
      ]
     },
     "execution_count": 22,
     "metadata": {},
     "output_type": "execute_result"
    }
   ],
   "source": [
    "total_wait_time_per_pickup_place = df_adjusted.groupby(['pickup_place'])['time_spent_at_merchant_minutes'].mean().dropna().sort_values(ascending=False)\n",
    "total_wait_time_per_pickup_place.head(20)"
   ]
  },
  {
   "cell_type": "code",
   "execution_count": 23,
   "metadata": {},
   "outputs": [
    {
     "data": {
      "text/plain": [
       "(array([ 79., 288., 363., 431., 391., 312., 270., 163., 136., 119.,  85.,\n",
       "         50.,  45.,  56.,  32.,  35.,  27.,  19.,  23.,  17.,  16.,  11.,\n",
       "         10.,  10.,   6.,  11.,   3.,   1.,   5.,   4.,   2.,   4.,   0.,\n",
       "          1.,   2.,   1.,   2.,   0.,   0.,   0.,   1.,   0.,   0.,   0.,\n",
       "          1.,   0.,   2.,   0.,   0.,   0.,   0.,   0.,   0.,   0.,   0.,\n",
       "          0.,   1.,   0.,   0.,   0.,   0.,   0.,   1.,   0.,   0.,   0.,\n",
       "          0.,   0.,   0.,   0.,   0.,   2.]),\n",
       " array([ 1.36666667,  2.36458333,  3.3625    ,  4.36041667,  5.35833333,\n",
       "         6.35625   ,  7.35416667,  8.35208333,  9.35      , 10.34791667,\n",
       "        11.34583333, 12.34375   , 13.34166667, 14.33958333, 15.3375    ,\n",
       "        16.33541667, 17.33333333, 18.33125   , 19.32916667, 20.32708333,\n",
       "        21.325     , 22.32291667, 23.32083333, 24.31875   , 25.31666667,\n",
       "        26.31458333, 27.3125    , 28.31041667, 29.30833333, 30.30625   ,\n",
       "        31.30416667, 32.30208333, 33.3       , 34.29791667, 35.29583333,\n",
       "        36.29375   , 37.29166667, 38.28958333, 39.2875    , 40.28541667,\n",
       "        41.28333333, 42.28125   , 43.27916667, 44.27708333, 45.275     ,\n",
       "        46.27291667, 47.27083333, 48.26875   , 49.26666667, 50.26458333,\n",
       "        51.2625    , 52.26041667, 53.25833333, 54.25625   , 55.25416667,\n",
       "        56.25208333, 57.25      , 58.24791667, 59.24583333, 60.24375   ,\n",
       "        61.24166667, 62.23958333, 63.2375    , 64.23541667, 65.23333333,\n",
       "        66.23125   , 67.22916667, 68.22708333, 69.225     , 70.22291667,\n",
       "        71.22083333, 72.21875   , 73.21666667]),\n",
       " <BarContainer object of 72 artists>)"
      ]
     },
     "execution_count": 23,
     "metadata": {},
     "output_type": "execute_result"
    },
    {
     "data": {
      "image/png": "[encoded data removed]",
      "text/plain": [
       "<Figure size 432x288 with 1 Axes>"
      ]
     },
     "metadata": {
      "needs_background": "light"
     },
     "output_type": "display_data"
    }
   ],
   "source": [
    "plt.hist(df_adjusted[pd.notnull(df_adjusted['how_long_it_took_to_order'].astype('timedelta64[s]'))]['how_long_it_took_to_order'].astype('timedelta64[s]')/60,bins=72, rwidth=.8)"
   ]
  },
  {
   "cell_type": "markdown",
   "metadata": {},
   "source": [
    "It looks like amount of time spent by customers are particularly high for limited number of deliveries. It is not widespread but needs more attention to it. If it is taking too much time for the users to complete ordering might indicate that there could be a UX issue making it difficult to proceed."
   ]
  },
  {
   "cell_type": "code",
   "execution_count": 24,
   "metadata": {},
   "outputs": [
    {
     "data": {
      "text/plain": [
       "delivery_id  customer_id\n",
       "1271706      66556          1\n",
       "1271751      104131         1\n",
       "1271867      121706         1\n",
       "1272303      107621         1\n",
       "1272363      315298         1\n",
       "1272382      118665         1\n",
       "1272451      103329         1\n",
       "1272468      183564         1\n",
       "1272470      270525         1\n",
       "1272507      91981          1\n",
       "Name: customer_id, dtype: int64"
      ]
     },
     "execution_count": 24,
     "metadata": {},
     "output_type": "execute_result"
    }
   ],
   "source": [
    "df_adjusted[df_adjusted['how_long_it_took_to_order'].isnull()].groupby(['delivery_id'])['customer_id'].value_counts().head(10)"
   ]
  },
  {
   "cell_type": "markdown",
   "metadata": {},
   "source": [
    "Being able to track how long it takes customers to order should help better understanding if the UX is designed well or there are room for improvement. If more data is available about the session like device, browser information, that would enable to us have better understanding of the cause of this error."
   ]
  },
  {
   "cell_type": "markdown",
   "metadata": {},
   "source": [
    "It is important to note that some of the delivery ids repeat itself in the given data set. Although most of the time it makes sense because of the way records are kept but keeping those records in a nested format could be a better idea. There are instances where same items within the same order repeat itself over mutiple rows. It's difficult determine if they are simply duplicate entries or records are not kept properly."
   ]
  },
  {
   "cell_type": "code",
   "execution_count": 26,
   "metadata": {},
   "outputs": [
    {
     "data": {
      "text/plain": [
       "1.0     2798\n",
       "0.0     1230\n",
       "2.0      803\n",
       "3.0      209\n",
       "4.0      100\n",
       "5.0       32\n",
       "6.0       18\n",
       "7.0        8\n",
       "8.0        6\n",
       "9.0        4\n",
       "12.0       1\n",
       "30.0       1\n",
       "11.0       1\n",
       "15.0       1\n",
       "10.0       1\n",
       "16.0       1\n",
       "Name: item_quantity, dtype: int64"
      ]
     },
     "execution_count": 26,
     "metadata": {},
     "output_type": "execute_result"
    }
   ],
   "source": [
    "df_adjusted.groupby(['delivery_id'])['item_quantity'].sum().value_counts()"
   ]
  },
  {
   "cell_type": "code",
   "execution_count": 27,
   "metadata": {},
   "outputs": [
    {
     "name": "stdout",
     "output_type": "stream",
     "text": [
      "item_name, item_quantity, item_category_name columns are missing at the same time in the given dataset and this happens 1230 times for 1230 unique deliveries at 592 unique pickup_places \n"
     ]
    }
   ],
   "source": [
    "if df_adjusted[df_adjusted['item_name'].isnull()].equals(df_adjusted[df_adjusted['item_quantity'].isnull()]) and df_adjusted[df_adjusted['item_name'].isnull()].equals(df_adjusted[df_adjusted['item_category_name'].isnull()]):\n",
    "        print('item_name, item_quantity, item_category_name columns are missing at the same time in the given dataset and this happens {} times for {} unique deliveries at {} unique pickup_places '.format(df_adjusted['item_name'].isnull().sum(),df_adjusted[df_adjusted['item_name'].isnull()]['delivery_id'].nunique(),df_adjusted[df_adjusted['item_name'].isnull()]['pickup_place'].nunique()))"
   ]
  },
  {
   "cell_type": "markdown",
   "metadata": {},
   "source": [
    "Having missing info for columns describing the items ordered might be the original design rather than a data integrity issue. If the platform allows customers to order from places that are not listed but available for custom orders."
   ]
  },
  {
   "cell_type": "code",
   "execution_count": 28,
   "metadata": {},
   "outputs": [
    {
     "name": "stdout",
     "output_type": "stream",
     "text": [
      "592 unique pickup place are missing item names, quantity.\n"
     ]
    }
   ],
   "source": [
    "pick_up_places_with_missing_items = df_adjusted[df_adjusted['item_name'].isnull()]['pickup_place'].nunique()\n",
    "print('{} unique pickup place are missing item names, quantity.'.format(pick_up_places_with_missing_items))"
   ]
  },
  {
   "cell_type": "markdown",
   "metadata": {},
   "source": [
    "This could result in increased wait times at the pickup place because the order is not prepared ahead and Jumpmans would need to order or browse through aisles to find items ordered. Targeting top places(in high demand) matching this category and having them listed on the platform should improve overall wait times."
   ]
  },
  {
   "cell_type": "code",
   "execution_count": 29,
   "metadata": {
    "scrolled": true
   },
   "outputs": [
    {
     "name": "stdout",
     "output_type": "stream",
     "text": [
      "253 out of 578 Jumpman had completed deliveries where arrival and departure times at/from the pickup place was not tracked.\n"
     ]
    }
   ],
   "source": [
    "if df_adjusted[df_adjusted['when_the_Jumpman_arrived_at_pickup'].isnull()].equals(df_adjusted[df_adjusted['when_the_Jumpman_left_pickup'].isnull()]):\n",
    "    print('{} out of {} Jumpman had completed deliveries where arrival and departure times at/from the pickup place was not tracked.'.format(df_adjusted[df_adjusted['when_the_Jumpman_arrived_at_pickup'].isnull()].groupby('jumpman_id').size().size,df_adjusted['jumpman_id'].nunique()))"
   ]
  },
  {
   "cell_type": "code",
   "execution_count": 37,
   "metadata": {},
   "outputs": [
    {
     "data": {
      "text/plain": [
       "369272    28\n",
       "52832     23\n",
       "275689    17\n",
       "125123    16\n",
       "91817     16\n",
       "58898     16\n",
       "100889    14\n",
       "115610    13\n",
       "250494    13\n",
       "301032    12\n",
       "276192    12\n",
       "47440     12\n",
       "64153     12\n",
       "259341    12\n",
       "60052     12\n",
       "270525    11\n",
       "95644     11\n",
       "59673     11\n",
       "66373     11\n",
       "121706    11\n",
       "Name: customer_id, dtype: int64"
      ]
     },
     "execution_count": 37,
     "metadata": {},
     "output_type": "execute_result"
    }
   ],
   "source": [
    "df_adjusted['customer_id'].value_counts().head(20)"
   ]
  },
  {
   "cell_type": "code",
   "execution_count": null,
   "metadata": {},
   "outputs": [],
   "source": []
  }
 ],
 "metadata": {
  "kernelspec": {
   "display_name": "Python 3",
   "language": "python",
   "name": "python3"
  },
  "language_info": {
   "codemirror_mode": {
    "name": "ipython",
    "version": 3
   },
   "file_extension": ".py",
   "mimetype": "text/x-python",
   "name": "python",
   "nbconvert_exporter": "python",
   "pygments_lexer": "ipython3",
   "version": "3.8.5"
  }
 },
 "nbformat": 4,
 "nbformat_minor": 4
}
